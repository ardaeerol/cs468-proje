{
 "cells": [
  {
   "cell_type": "markdown",
   "id": "b5887fa1",
   "metadata": {},
   "source": [
    "# Image Process and Feature Matching"
   ]
  },
  {
   "cell_type": "markdown",
   "id": "3268292b",
   "metadata": {},
   "source": [
    "Dataset in use: https://www.kaggle.com/datasets/cashutosh/gender-classification-dataset/data"
   ]
  },
  {
   "cell_type": "code",
   "execution_count": 1,
   "id": "49eadd23",
   "metadata": {},
   "outputs": [],
   "source": [
    "import os\n",
    "import cv2\n",
    "import glob\n",
    "import random\n",
    "import pickle\n",
    "import logging\n",
    "import numpy as np\n",
    "from tqdm import tqdm\n",
    "from sklearn import metrics\n",
    "from skimage import feature\n",
    "from sklearn.svm import SVC \n",
    "import matplotlib.pyplot as plt\n",
    "from sklearn.cluster import KMeans"
   ]
  },
  {
   "cell_type": "code",
   "execution_count": 2,
   "id": "9f9442be",
   "metadata": {},
   "outputs": [],
   "source": [
    "import warnings\n",
    "warnings.filterwarnings(\"ignore\")"
   ]
  },
  {
   "cell_type": "code",
   "execution_count": 3,
   "id": "f203fc26",
   "metadata": {},
   "outputs": [],
   "source": [
    "def metric_report(actual, predicted):\n",
    "    acc = metrics.accuracy_score(actual, predicted)\n",
    "    precision = metrics.precision_score(actual, predicted)\n",
    "    recall = metrics.recall_score(actual, predicted)\n",
    "    f1 = metrics.f1_score(actual, predicted)    \n",
    "    return (acc, precision, recall, f1)"
   ]
  },
  {
   "cell_type": "code",
   "execution_count": 4,
   "id": "75e3ab48",
   "metadata": {},
   "outputs": [],
   "source": [
    "ext='jpg'"
   ]
  },
  {
   "cell_type": "code",
   "execution_count": 5,
   "id": "23e14dc9",
   "metadata": {},
   "outputs": [],
   "source": [
    "def image_reader(file_path, in_use, ext=ext):\n",
    "    \n",
    "    images = []\n",
    "    \n",
    "    files = os.listdir(file_path)\n",
    "    random.shuffle(files)\n",
    "\n",
    "    files = files[:int(len(files)*in_use)]\n",
    "    \n",
    "    for file in tqdm(files, desc = 'Reading Images'):\n",
    "        if file.endswith(ext):\n",
    "            img_path = os.path.join(file_path, file)\n",
    "            img = cv2.imread(img_path, 0)\n",
    "            images.append(img)\n",
    "            \n",
    "    return images"
   ]
  },
  {
   "cell_type": "code",
   "execution_count": 6,
   "id": "51d8c375",
   "metadata": {},
   "outputs": [],
   "source": [
    "'''\n",
    "\n",
    "male_dir = './dataset/Training/male'\n",
    "female_dir = './dataset/Training/female'\n",
    "\n",
    "male_test_dir = './dataset/Validation/male'\n",
    "female_test_dir = './dataset/Validation/female'\n",
    "\n",
    "'''"
   ]
  },
  {
   "cell_type": "code",
   "execution_count": 7,
   "id": "941ea640",
   "metadata": {},
   "outputs": [
    {
     "name": "stderr",
     "output_type": "stream",
     "text": [
      "Reading Images: 100%|███████████████████████████████████████████████████| 5941/5941 [00:14<00:00, 409.49it/s]\n",
      "Reading Images: 100%|███████████████████████████████████████████████████| 5810/5810 [00:15<00:00, 373.75it/s]\n"
     ]
    }
   ],
   "source": [
    "'''\n",
    "\n",
    "train_male_images = image_reader(male_dir, 0.25)\n",
    "train_female_images = image_reader(female_dir, 0.25)\n",
    "\n",
    "'''"
   ]
  },
  {
   "cell_type": "code",
   "execution_count": 8,
   "id": "b642cdd2",
   "metadata": {},
   "outputs": [
    {
     "name": "stderr",
     "output_type": "stream",
     "text": [
      "Reading Images: 100%|█████████████████████████████████████████████████████| 580/580 [00:01<00:00, 337.18it/s]\n",
      "Reading Images: 100%|█████████████████████████████████████████████████████| 584/584 [00:01<00:00, 336.50it/s]\n"
     ]
    }
   ],
   "source": [
    "'''\n",
    "\n",
    "test_male_images = image_reader(male_test_dir, 0.1)\n",
    "test_female_images = image_reader(female_test_dir, 0.1)\n",
    "\n",
    "'''"
   ]
  },
  {
   "cell_type": "markdown",
   "id": "c9286792",
   "metadata": {},
   "source": [
    "## Local Binary Patterns"
   ]
  },
  {
   "cell_type": "code",
   "execution_count": 9,
   "id": "8bb6b562",
   "metadata": {},
   "outputs": [],
   "source": [
    "class LocalBinaryPatterns:\n",
    "    def __init__(self, numPoints, radius):\n",
    "        self.numPoints = numPoints\n",
    "        self.radius = radius\n",
    "\n",
    "    def describe(self, image, eps=1e-7):\n",
    "        lbp = feature.local_binary_pattern(image, self.numPoints, self.radius, method=\"uniform\")\n",
    "        (hist, _) = np.histogram(lbp.ravel(),\n",
    "                                 bins=np.arange(0, self.numPoints + 3),\n",
    "                                 range=(0, self.numPoints + 2))\n",
    "        \n",
    "        hist = hist.astype(\"float\")\n",
    "        hist /= (hist.sum() + eps)\n",
    "        return hist"
   ]
  },
  {
   "cell_type": "code",
   "execution_count": 10,
   "id": "553e0de5",
   "metadata": {},
   "outputs": [],
   "source": [
    "def single_image_pipeline(img, desc, male_hist_path, female_hist_path):\n",
    "    \n",
    "    lbp_hist = desc.describe(img)\n",
    "    lbp_hist = lbp_hist.astype(np.float32)\n",
    "\n",
    "    male_lbp_hist = np.load(male_hist_path).astype(np.float32)\n",
    "    female_lbp_hist = np.load(female_hist_path).astype(np.float32)\n",
    "\n",
    "    male_distance = cv2.compareHist(lbp_hist, male_lbp_hist, cv2.HISTCMP_CORREL)\n",
    "    female_distance = cv2.compareHist(lbp_hist, female_lbp_hist, cv2.HISTCMP_CORREL)    \n",
    "    # HISTCMP_INTERSECT, HISTCMP_CORREL, HISTCMP_BHATTACHARYYA, HISTCMP_HELLINGER, HISTCMP_CHISQR \n",
    "    \n",
    "    return 0 if male_distance >= female_distance else 1 "
   ]
  },
  {
   "cell_type": "code",
   "execution_count": 11,
   "id": "1e88daa2",
   "metadata": {},
   "outputs": [],
   "source": [
    "desc = LocalBinaryPatterns(20, 5)"
   ]
  },
  {
   "cell_type": "code",
   "execution_count": 12,
   "id": "a6a32e4d",
   "metadata": {},
   "outputs": [
    {
     "data": {
      "text/plain": [
       "'\\nmale_histograms = [desc.describe(img) for img in tqdm(train_male_images, desc=\"Computing LBP histogram - Male\")]\\nfemale_histograms = [desc.describe(img) for img in tqdm(train_female_images, desc=\"Computing LBP histogram - Female\")]\\n\\nnp.save(\\'male_lbp_histograms.npy\\', male_histograms)\\nnp.save(\\'female_lbp_histograms.npy\\', female_histograms)\\n\\nmale_lbp_hist = np.mean(male_histograms, axis=0)\\nfemale_lbp_hist = np.mean(female_histograms, axis=0)\\n\\nnp.save(\\'male_lbp_hist.npy\\', male_lbp_hist)\\nnp.save(\\'female_lbp_hist.npy\\', female_lbp_hist)\\n'"
      ]
     },
     "execution_count": 12,
     "metadata": {},
     "output_type": "execute_result"
    }
   ],
   "source": [
    "'''\n",
    "Male-Female LBP histogramlari elde edilir ve kaydedilir. \n",
    "'''\n",
    "\n",
    "'''\n",
    "male_histograms = [desc.describe(img) for img in tqdm(train_male_images, desc=\"Computing LBP histogram - Male\")]\n",
    "female_histograms = [desc.describe(img) for img in tqdm(train_female_images, desc=\"Computing LBP histogram - Female\")]\n",
    "\n",
    "np.save('male_lbp_histograms.npy', male_histograms)\n",
    "np.save('female_lbp_histograms.npy', female_histograms)\n",
    "\n",
    "male_lbp_hist = np.mean(male_histograms, axis=0)\n",
    "female_lbp_hist = np.mean(female_histograms, axis=0)\n",
    "\n",
    "np.save('male_lbp_hist.npy', male_lbp_hist)\n",
    "np.save('female_lbp_hist.npy', female_lbp_hist)\n",
    "'''"
   ]
  },
  {
   "cell_type": "code",
   "execution_count": 13,
   "id": "eb47e2be",
   "metadata": {},
   "outputs": [],
   "source": [
    "# predictions_male = []\n",
    "# for img in test_male_images:\n",
    "#     predictions_male.append(single_image_pipeline(img, desc, 'male_lbp_hist.npy', 'female_lbp_hist.npy'))"
   ]
  },
  {
   "cell_type": "code",
   "execution_count": 14,
   "id": "9b89bf8b",
   "metadata": {},
   "outputs": [],
   "source": [
    "# predictions_female = []\n",
    "# for img in test_female_images:\n",
    "#     predictions_female.append(single_image_pipeline(img, desc, 'male_lbp_hist.npy', 'female_lbp_hist.npy'))"
   ]
  },
  {
   "cell_type": "code",
   "execution_count": 15,
   "id": "5bbe0d8e",
   "metadata": {},
   "outputs": [],
   "source": [
    "# actual = np.hstack( (np.zeros(len(predictions_male)), np.ones(len(predictions_female))))\n",
    "# predicted = np.hstack( (predictions_male, predictions_female) )"
   ]
  },
  {
   "cell_type": "code",
   "execution_count": 16,
   "id": "d5f5fd8d",
   "metadata": {},
   "outputs": [
    {
     "data": {
      "text/plain": [
       "(0.6460481099656358, 0.6387096774193548, 0.678082191780822, 0.6578073089700996)"
      ]
     },
     "execution_count": 16,
     "metadata": {},
     "output_type": "execute_result"
    }
   ],
   "source": [
    "# metric_report(actual, predicted)"
   ]
  },
  {
   "cell_type": "code",
   "execution_count": 17,
   "id": "8aef313d",
   "metadata": {},
   "outputs": [],
   "source": [
    "# confusion_matrix = metrics.confusion_matrix(actual, predicted)"
   ]
  },
  {
   "cell_type": "code",
   "execution_count": 18,
   "id": "e489d549",
   "metadata": {},
   "outputs": [
    {
     "data": {
      "image/png": "[encoded data removed]",
      "text/plain": [
       "<Figure size 640x480 with 2 Axes>"
      ]
     },
     "metadata": {},
     "output_type": "display_data"
    }
   ],
   "source": [
    "# cm_display = metrics.ConfusionMatrixDisplay(confusion_matrix = confusion_matrix, display_labels = ['Male', 'Female'])\n",
    "# cm_display.plot()\n",
    "# plt.show()"
   ]
  },
  {
   "cell_type": "code",
   "execution_count": 19,
   "id": "028d6958",
   "metadata": {},
   "outputs": [
    {
     "name": "stdout",
     "output_type": "stream",
     "text": [
      "Gender Detected!\n"
     ]
    }
   ],
   "source": [
    "# Asagidaki img_path degiskenine istenen goruntulerin pathi verilir ve lbp ile gender detect edilir.\n",
    "\n",
    "img_path = './test_images/064943.jpg.jpg'\n",
    "img = cv2.imread(img_path, 0)\n",
    "actual = int(os.path.basename(img_path).startswith('1'))\n",
    "\n",
    "pred = single_image_pipeline(img, desc, 'male_lbp_hist.npy', 'female_lbp_hist.npy')\n",
    "\n",
    "if actual == pred:\n",
    "    print('Gender Detected!')"
   ]
  },
  {
   "cell_type": "markdown",
   "id": "c77146e0",
   "metadata": {},
   "source": [
    "## Histogram of Oriented Gradients (HoG)"
   ]
  },
  {
   "cell_type": "code",
   "execution_count": 20,
   "id": "8b51382e",
   "metadata": {},
   "outputs": [],
   "source": [
    "hog = cv2.HOGDescriptor()"
   ]
  },
  {
   "cell_type": "code",
   "execution_count": 21,
   "id": "40c14373",
   "metadata": {},
   "outputs": [],
   "source": [
    "def hog_pattern_extractor(hog: cv2.HOGDescriptor, images, ext=ext, r_shape=(64, 128)):\n",
    "    data = []\n",
    "    \n",
    "    for img in tqdm(images):\n",
    "        img_resized = cv2.resize(img, r_shape)\n",
    "        \n",
    "        hist = hog.compute(img_resized)\n",
    "        hist = hist.flatten()\n",
    "        \n",
    "        data.append(hist)\n",
    "    \n",
    "    return data"
   ]
  },
  {
   "cell_type": "code",
   "execution_count": 22,
   "id": "c2ae9c20",
   "metadata": {},
   "outputs": [],
   "source": [
    "def single_image_pipeline_hog(img, hog, male_hist_path, female_hist_path, r_shape=(64, 128)):\n",
    "    \n",
    "    img_resized = cv2.resize(img, r_shape)\n",
    "    hist = hog.compute(img_resized)\n",
    "    hist = hist.astype(np.float32)\n",
    "\n",
    "    male_hog_hist = np.load(male_hist_path).astype(np.float32)\n",
    "    female_hog_hist = np.load(female_hist_path).astype(np.float32)\n",
    "\n",
    "    male_distance = cv2.compareHist(hist, male_hog_hist, cv2.HISTCMP_INTERSECT)\n",
    "    female_distance = cv2.compareHist(hist, female_hog_hist, cv2.HISTCMP_INTERSECT)    \n",
    "    # HISTCMP_INTERSECT, HISTCMP_CORREL, HISTCMP_BHATTACHARYYA, HISTCMP_HELLINGER, HISTCMP_CHISQR \n",
    "    \n",
    "    return 0 if male_distance >= female_distance else 1 "
   ]
  },
  {
   "cell_type": "code",
   "execution_count": 23,
   "id": "71b6cc70",
   "metadata": {},
   "outputs": [
    {
     "name": "stderr",
     "output_type": "stream",
     "text": [
      "100%|██████████████████████████████████████████████████████████████████| 5941/5941 [00:01<00:00, 4204.88it/s]\n",
      "100%|██████████████████████████████████████████████████████████████████| 5810/5810 [00:01<00:00, 4270.13it/s]\n"
     ]
    }
   ],
   "source": [
    "# male_histograms =  hog_pattern_extractor(hog, train_male_images)\n",
    "# female_histograms = hog_pattern_extractor(hog, train_female_images)\n",
    "\n",
    "# male_hog_hist = np.mean(male_histograms, axis=0)\n",
    "# female_hog_hist = np.mean(female_histograms, axis=0)\n",
    "\n",
    "# np.save('male_hog_hist.npy', male_hog_hist)\n",
    "# np.save('female_hog_hist.npy', female_hog_hist)"
   ]
  },
  {
   "cell_type": "code",
   "execution_count": 24,
   "id": "df38027d",
   "metadata": {},
   "outputs": [],
   "source": [
    "# actual, predicted = [], []\n",
    "\n",
    "# for img in test_male_images:\n",
    "#     actual.append(0)\n",
    "#     predicted.append(single_image_pipeline_hog(img, hog, 'male_hog_hist.npy', 'female_hog_hist.npy'))"
   ]
  },
  {
   "cell_type": "code",
   "execution_count": 25,
   "id": "9c51fec6",
   "metadata": {},
   "outputs": [],
   "source": [
    "# for img in test_female_images:\n",
    "#     actual.append(1)\n",
    "#     predicted.append(single_image_pipeline_hog(img, hog, 'male_hog_hist.npy', 'female_hog_hist.npy'))"
   ]
  },
  {
   "cell_type": "code",
   "execution_count": 26,
   "id": "b0b5a9c8",
   "metadata": {},
   "outputs": [
    {
     "data": {
      "text/plain": [
       "(0.7079037800687286,\n",
       " 0.9236111111111112,\n",
       " 0.4554794520547945,\n",
       " 0.6100917431192661)"
      ]
     },
     "execution_count": 26,
     "metadata": {},
     "output_type": "execute_result"
    }
   ],
   "source": [
    "# metric_report(actual, predicted)"
   ]
  },
  {
   "cell_type": "code",
   "execution_count": 27,
   "id": "1662f3f9",
   "metadata": {},
   "outputs": [],
   "source": [
    "# confusion_matrix = metrics.confusion_matrix(actual, predicted)"
   ]
  },
  {
   "cell_type": "code",
   "execution_count": 28,
   "id": "e6fd8977",
   "metadata": {},
   "outputs": [
    {
     "data": {
      "image/png": "[encoded data removed]",
      "text/plain": [
       "<Figure size 640x480 with 2 Axes>"
      ]
     },
     "metadata": {},
     "output_type": "display_data"
    }
   ],
   "source": [
    "# cm_display = metrics.ConfusionMatrixDisplay(confusion_matrix = confusion_matrix, display_labels = ['Male', 'Female'])\n",
    "# cm_display.plot()\n",
    "# plt.show()"
   ]
  },
  {
   "cell_type": "code",
   "execution_count": 29,
   "id": "27b10507",
   "metadata": {},
   "outputs": [
    {
     "name": "stdout",
     "output_type": "stream",
     "text": [
      "Gender Detected!\n"
     ]
    }
   ],
   "source": [
    "# Asagidaki img_path degiskenine istenen goruntulerin pathi verilir ve hog ile gender detect edilir.\n",
    "\n",
    "img_path = './test_images/064943.jpg.jpg'\n",
    "img = cv2.imread(img_path, 0)\n",
    "actual = int(os.path.basename(img_path).startswith('1'))\n",
    "\n",
    "pred = single_image_pipeline_hog(img, hog, 'male_hog_hist.npy', 'female_hog_hist.npy')\n",
    "\n",
    "if actual == pred:\n",
    "    print('Gender Detected!')"
   ]
  }
 ],
 "metadata": {
  "kernelspec": {
   "display_name": "Python 3 (ipykernel)",
   "language": "python",
   "name": "python3"
  },
  "language_info": {
   "codemirror_mode": {
    "name": "ipython",
    "version": 3
   },
   "file_extension": ".py",
   "mimetype": "text/x-python",
   "name": "python",
   "nbconvert_exporter": "python",
   "pygments_lexer": "ipython3",
   "version": "3.11.7"
  }
 },
 "nbformat": 4,
 "nbformat_minor": 5
}
