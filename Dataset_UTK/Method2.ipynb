{
 "cells": [
  {
   "cell_type": "markdown",
   "id": "d482079c",
   "metadata": {},
   "source": [
    "# Image Process and Machine Learning"
   ]
  },
  {
   "cell_type": "markdown",
   "id": "965c452a",
   "metadata": {},
   "source": [
    "Dataset in use: https://susanqq.github.io/UTKFace/\n",
    "\n",
    "*In-the-wild Faces is used and part-2 is selected for train, part-3 is selected for test set.*"
   ]
  },
  {
   "cell_type": "code",
   "execution_count": 1,
   "id": "584dd4b1",
   "metadata": {},
   "outputs": [],
   "source": [
    "import os\n",
    "import cv2\n",
    "import glob\n",
    "import pickle\n",
    "import logging\n",
    "import numpy as np\n",
    "from tqdm import tqdm\n",
    "from sklearn import metrics\n",
    "from skimage import feature\n",
    "from sklearn.svm import SVC \n",
    "import matplotlib.pyplot as plt"
   ]
  },
  {
   "cell_type": "code",
   "execution_count": 2,
   "id": "43dde2bc",
   "metadata": {},
   "outputs": [],
   "source": [
    "import warnings\n",
    "warnings.filterwarnings(\"ignore\")"
   ]
  },
  {
   "cell_type": "markdown",
   "id": "510d18b0",
   "metadata": {},
   "source": [
    "## Histogram of Oriented Gradients (HoG)"
   ]
  },
  {
   "cell_type": "code",
   "execution_count": 3,
   "id": "e3d8dd94",
   "metadata": {},
   "outputs": [],
   "source": [
    "hog = cv2.HOGDescriptor()"
   ]
  },
  {
   "cell_type": "code",
   "execution_count": 4,
   "id": "1f024c2f",
   "metadata": {},
   "outputs": [],
   "source": [
    "dest_dir='./utk_train_cropped'\n",
    "ext='jpg'"
   ]
  },
  {
   "cell_type": "code",
   "execution_count": 5,
   "id": "932a0bcb",
   "metadata": {},
   "outputs": [],
   "source": [
    "def metric_report(actual, predicted):\n",
    "    acc = metrics.accuracy_score(actual, predicted)\n",
    "    precision = metrics.precision_score(actual, predicted)\n",
    "    recall = metrics.recall_score(actual, predicted)\n",
    "    f1 = metrics.f1_score(actual, predicted)    \n",
    "    return (acc, precision, recall, f1)"
   ]
  },
  {
   "cell_type": "code",
   "execution_count": 6,
   "id": "1ec30689",
   "metadata": {},
   "outputs": [],
   "source": [
    "def hog_pattern_extractor(desc: cv2.HOGDescriptor, source_dir=dest_dir, ext=ext, r_shape=(64, 128)):\n",
    "    data = []\n",
    "    labels = []\n",
    "    \n",
    "    for pimg in tqdm(glob.glob(f\"{source_dir}/*.{ext}\")):\n",
    "        img = cv2.imread(pimg)\n",
    "        img_resized = cv2.resize(img, r_shape)\n",
    "        gray_img = cv2.cvtColor(img_resized, cv2.COLOR_BGR2GRAY)\n",
    "        hist = hog.compute(gray_img)\n",
    "        hist = hist.flatten()\n",
    "        data.append(hist)\n",
    "        labels.append(os.path.basename(pimg).split('_')[1])\n",
    "        \n",
    "    return data, labels"
   ]
  },
  {
   "cell_type": "code",
   "execution_count": 7,
   "id": "bef75bc2",
   "metadata": {},
   "outputs": [],
   "source": [
    "def hog_detector(model, target, ext=ext, r_shape=(64, 128)):\n",
    "    \n",
    "    if os.path.isdir(target):\n",
    "        logging.debug(f\"{target} is a directory full of image.\")\n",
    "        \n",
    "        actual, predicted = [], []\n",
    "        for pimg in tqdm(glob.glob(f\"{target}/*.{ext}\"), desc='SVM Inference'):\n",
    "            img = cv2.imread(pimg)\n",
    "            img_resized = cv2.resize(img, r_shape)\n",
    "            gray_img = cv2.cvtColor(img_resized, cv2.COLOR_BGR2GRAY)\n",
    "            hist = hog.compute(gray_img)\n",
    "            hist = hist.flatten()\n",
    "            pred = model.predict(hist.reshape(1, -1))[0]\n",
    "            \n",
    "            actual.append(int(os.path.basename(pimg).split('_')[1]))\n",
    "            predicted.append(int(pred))\n",
    "            \n",
    "        return actual, predicted\n",
    "\n",
    "    else:\n",
    "        print(f\"{target} does not exist.\")"
   ]
  },
  {
   "cell_type": "code",
   "execution_count": 8,
   "id": "b24166f6",
   "metadata": {},
   "outputs": [],
   "source": [
    "def hog_predict(model_instance, target, r_shape=(64, 128)):\n",
    "    \n",
    "    if os.path.isfile(target): logging.debug(f\"{target} is a single image.\")\n",
    "        \n",
    "    img = cv2.imread(target, 0)\n",
    "    img_resized = cv2.resize(img, r_shape)\n",
    "    hist = hog.compute(img_resized)\n",
    "    hist = hist.flatten()\n",
    "    \n",
    "    pred = model_instance.predict(hist.reshape(1, -1))[0]\n",
    "    \n",
    "    print('Actual gender:', 'Female' if int(os.path.basename(target).split('_')[1]) else 'Man')\n",
    "    print('Predicted gender:', 'Female' if int(pred) else 'Man')\n",
    "          \n",
    "    return pred"
   ]
  },
  {
   "cell_type": "code",
   "execution_count": 9,
   "id": "374bc417",
   "metadata": {},
   "outputs": [
    {
     "data": {
      "text/plain": [
       "'\\nExtract histograms and labels\\n'"
      ]
     },
     "execution_count": 9,
     "metadata": {},
     "output_type": "execute_result"
    }
   ],
   "source": [
    "'''\n",
    "Extract histograms and labels\n",
    "'''\n",
    "\n",
    "#data_hog, labels_hog = hog_pattern_extractor(hog)"
   ]
  },
  {
   "cell_type": "code",
   "execution_count": 10,
   "id": "de50477f",
   "metadata": {},
   "outputs": [
    {
     "data": {
      "text/plain": [
       "'\\nTrain SVM Classifier with HOG outputs\\n'"
      ]
     },
     "execution_count": 10,
     "metadata": {},
     "output_type": "execute_result"
    }
   ],
   "source": [
    "'''\n",
    "Train SVM Classifier with HOG outputs\n",
    "'''\n",
    "\n",
    "#model_hog = SVC(kernel='linear', random_state=42)\n",
    "#model_hog.fit(data_hog, labels_hog)"
   ]
  },
  {
   "cell_type": "code",
   "execution_count": 11,
   "id": "b33e395d",
   "metadata": {},
   "outputs": [],
   "source": [
    "target_dir = './utk_test_cropped'"
   ]
  },
  {
   "cell_type": "code",
   "execution_count": 12,
   "id": "21877b71",
   "metadata": {},
   "outputs": [
    {
     "data": {
      "text/plain": [
       "'\\nInference\\n'"
      ]
     },
     "execution_count": 12,
     "metadata": {},
     "output_type": "execute_result"
    }
   ],
   "source": [
    "'''\n",
    "Inference\n",
    "'''\n",
    "\n",
    "#actual, predicted = hog_detector(model_hog, target_dir)"
   ]
  },
  {
   "cell_type": "code",
   "execution_count": 13,
   "id": "a70070db",
   "metadata": {},
   "outputs": [],
   "source": [
    "#metric_report(actual, predicted)"
   ]
  },
  {
   "cell_type": "code",
   "execution_count": 14,
   "id": "b787b665",
   "metadata": {},
   "outputs": [],
   "source": [
    "#confusion_matrix = metrics.confusion_matrix(actual, predicted)"
   ]
  },
  {
   "cell_type": "code",
   "execution_count": 15,
   "id": "c8520a3f",
   "metadata": {},
   "outputs": [],
   "source": [
    "#cm_display = metrics.ConfusionMatrixDisplay(confusion_matrix = confusion_matrix, display_labels = ['Male', 'Female'])\n",
    "#cm_display.plot()\n",
    "#plt.show()"
   ]
  },
  {
   "cell_type": "code",
   "execution_count": 16,
   "id": "d7d005f5",
   "metadata": {},
   "outputs": [],
   "source": [
    "fname = 'hog_svm_model.sav'\n",
    "#pickle.dump(model_hog, open(fname, 'wb'))"
   ]
  },
  {
   "cell_type": "code",
   "execution_count": 17,
   "id": "310c9f24",
   "metadata": {},
   "outputs": [],
   "source": [
    "loaded_model = pickle.load(open(fname, 'rb'))"
   ]
  },
  {
   "cell_type": "code",
   "execution_count": 18,
   "id": "f1db5bb0",
   "metadata": {},
   "outputs": [
    {
     "name": "stderr",
     "output_type": "stream",
     "text": [
      "SVM Inference: 100%|████████████████████████████████████████████████████████| 10/10 [00:00<00:00, 227.27it/s]\n"
     ]
    }
   ],
   "source": [
    "# Verilen folder icindeki yuzlerden gender tespit etme\n",
    "test_dir = './test_images'\n",
    "actual_test, predicted_test = hog_detector(loaded_model, test_dir)"
   ]
  },
  {
   "cell_type": "code",
   "execution_count": 19,
   "id": "4c656a0e",
   "metadata": {},
   "outputs": [
    {
     "data": {
      "text/plain": [
       "(1.0, 1.0, 1.0, 1.0)"
      ]
     },
     "execution_count": 19,
     "metadata": {},
     "output_type": "execute_result"
    }
   ],
   "source": [
    "metric_report(actual_test, predicted_test)"
   ]
  },
  {
   "cell_type": "code",
   "execution_count": 20,
   "id": "8d8e2237",
   "metadata": {},
   "outputs": [
    {
     "name": "stdout",
     "output_type": "stream",
     "text": [
      "Actual gender: Man\n",
      "Predicted gender: Man\n"
     ]
    }
   ],
   "source": [
    "# Verilen goruntuden gender tespit etme\n",
    "test_image = 'test_images/16_0_0_20170120133327900_cropped.jpg'\n",
    "gender = hog_predict(loaded_model, test_image)"
   ]
  },
  {
   "cell_type": "markdown",
   "id": "6e9ff411",
   "metadata": {},
   "source": [
    "## Local Binary Patterns "
   ]
  },
  {
   "cell_type": "code",
   "execution_count": 21,
   "id": "3c9170d6",
   "metadata": {},
   "outputs": [],
   "source": [
    "class LocalBinaryPatterns:\n",
    "    def __init__(self, numPoints, radius):\n",
    "        self.numPoints = numPoints\n",
    "        self.radius = radius\n",
    "\n",
    "    def describe(self, image, eps=1e-7):\n",
    "        lbp = feature.local_binary_pattern(image, self.numPoints, self.radius, method=\"uniform\")\n",
    "        (hist, _) = np.histogram(lbp.ravel(),\n",
    "                                 bins=np.arange(0, self.numPoints + 3),\n",
    "                                 range=(0, self.numPoints + 2))\n",
    "        \n",
    "        hist = hist.astype(\"float\")\n",
    "        hist /= (hist.sum() + eps)\n",
    "        return hist"
   ]
  },
  {
   "cell_type": "code",
   "execution_count": 22,
   "id": "5c85488c",
   "metadata": {},
   "outputs": [],
   "source": [
    "desc = LocalBinaryPatterns(24, 8)"
   ]
  },
  {
   "cell_type": "code",
   "execution_count": 23,
   "id": "27013908",
   "metadata": {},
   "outputs": [],
   "source": [
    "def lbp_pattern_extractor(desc: LocalBinaryPatterns, source_dir=dest_dir, ext=ext):\n",
    "    data = []\n",
    "    labels = []\n",
    "    \n",
    "    for pimg in tqdm(glob.glob(f\"{source_dir}/*.{ext}\")):\n",
    "        img = cv2.imread(pimg, 0)\n",
    "        \n",
    "        hist = desc.describe(img)\n",
    "        hist = hist.flatten()\n",
    "        \n",
    "        data.append(hist)\n",
    "        labels.append(os.path.basename(pimg).split('_')[1])\n",
    "        \n",
    "    return data, labels"
   ]
  },
  {
   "cell_type": "code",
   "execution_count": 24,
   "id": "35c12bdd",
   "metadata": {},
   "outputs": [],
   "source": [
    "def lbp_detector(model, target, ext=ext):\n",
    "    \n",
    "    if os.path.isdir(target):\n",
    "        logging.debug(f\"{target} is a directory full of image.\")\n",
    "        \n",
    "        actual, predicted = [], []\n",
    "        for pimg in tqdm(glob.glob(f\"{target}/*.{ext}\"), desc='SVM Inference'):\n",
    "            img = cv2.imread(pimg, 0)\n",
    "            hist = desc.describe(img)\n",
    "            hist = hist.flatten()\n",
    "            pred = model.predict(hist.reshape(1, -1))[0]\n",
    "            \n",
    "            actual.append(int(os.path.basename(pimg).split('_')[1]))\n",
    "            predicted.append(int(pred))\n",
    "            \n",
    "        return actual, predicted\n",
    "\n",
    "    else:\n",
    "        print(f\"{target} does not exist.\")"
   ]
  },
  {
   "cell_type": "code",
   "execution_count": 25,
   "id": "5f5ab6e0",
   "metadata": {},
   "outputs": [],
   "source": [
    "def lbp_predict(model_instance, target):\n",
    "    \n",
    "    if os.path.isfile(target): logging.debug(f\"{target} is a single image.\")\n",
    "        \n",
    "    img = cv2.imread(target, 0)\n",
    "    hist = desc.describe(img)\n",
    "    hist = hist.flatten()\n",
    "    \n",
    "    pred = model_instance.predict(hist.reshape(1, -1))[0]\n",
    "    \n",
    "    print('Actual gender:', 'Female' if int(os.path.basename(target).split('_')[1]) else 'Man')\n",
    "    print('Predicted gender:', 'Female' if int(pred) else 'Man')\n",
    "          \n",
    "    return pred"
   ]
  },
  {
   "cell_type": "code",
   "execution_count": 26,
   "id": "f30ffeb3",
   "metadata": {},
   "outputs": [],
   "source": [
    "male_histograms = np.load('male_lbp_histograms.npy')\n",
    "female_histograms = np.load('female_lbp_histograms.npy')"
   ]
  },
  {
   "cell_type": "code",
   "execution_count": 27,
   "id": "9a64a0bb",
   "metadata": {},
   "outputs": [],
   "source": [
    "data = np.vstack((male_histograms, female_histograms))\n",
    "labels = np.hstack( (np.zeros(len(male_histograms)), np.ones(len(female_histograms))) )"
   ]
  },
  {
   "cell_type": "code",
   "execution_count": 28,
   "id": "a9ce2e26",
   "metadata": {},
   "outputs": [
    {
     "data": {
      "text/html": [
       "<style>#sk-container-id-1 {\n",
       "  /* Definition of color scheme common for light and dark mode */\n",
       "  --sklearn-color-text: black;\n",
       "  --sklearn-color-line: gray;\n",
       "  /* Definition of color scheme for unfitted estimators */\n",
       "  --sklearn-color-unfitted-level-0: #fff5e6;\n",
       "  --sklearn-color-unfitted-level-1: #f6e4d2;\n",
       "  --sklearn-color-unfitted-level-2: #ffe0b3;\n",
       "  --sklearn-color-unfitted-level-3: chocolate;\n",
       "  /* Definition of color scheme for fitted estimators */\n",
       "  --sklearn-color-fitted-level-0: #f0f8ff;\n",
       "  --sklearn-color-fitted-level-1: #d4ebff;\n",
       "  --sklearn-color-fitted-level-2: #b3dbfd;\n",
       "  --sklearn-color-fitted-level-3: cornflowerblue;\n",
       "\n",
       "  /* Specific color for light theme */\n",
       "  --sklearn-color-text-on-default-background: var(--sg-text-color, var(--theme-code-foreground, var(--jp-content-font-color1, black)));\n",
       "  --sklearn-color-background: var(--sg-background-color, var(--theme-background, var(--jp-layout-color0, white)));\n",
       "  --sklearn-color-border-box: var(--sg-text-color, var(--theme-code-foreground, var(--jp-content-font-color1, black)));\n",
       "  --sklearn-color-icon: #696969;\n",
       "\n",
       "  @media (prefers-color-scheme: dark) {\n",
       "    /* Redefinition of color scheme for dark theme */\n",
       "    --sklearn-color-text-on-default-background: var(--sg-text-color, var(--theme-code-foreground, var(--jp-content-font-color1, white)));\n",
       "    --sklearn-color-background: var(--sg-background-color, var(--theme-background, var(--jp-layout-color0, #111)));\n",
       "    --sklearn-color-border-box: var(--sg-text-color, var(--theme-code-foreground, var(--jp-content-font-color1, white)));\n",
       "    --sklearn-color-icon: #878787;\n",
       "  }\n",
       "}\n",
       "\n",
       "#sk-container-id-1 {\n",
       "  color: var(--sklearn-color-text);\n",
       "}\n",
       "\n",
       "#sk-container-id-1 pre {\n",
       "  padding: 0;\n",
       "}\n",
       "\n",
       "#sk-container-id-1 input.sk-hidden--visually {\n",
       "  border: 0;\n",
       "  clip: rect(1px 1px 1px 1px);\n",
       "  clip: rect(1px, 1px, 1px, 1px);\n",
       "  height: 1px;\n",
       "  margin: -1px;\n",
       "  overflow: hidden;\n",
       "  padding: 0;\n",
       "  position: absolute;\n",
       "  width: 1px;\n",
       "}\n",
       "\n",
       "#sk-container-id-1 div.sk-dashed-wrapped {\n",
       "  border: 1px dashed var(--sklearn-color-line);\n",
       "  margin: 0 0.4em 0.5em 0.4em;\n",
       "  box-sizing: border-box;\n",
       "  padding-bottom: 0.4em;\n",
       "  background-color: var(--sklearn-color-background);\n",
       "}\n",
       "\n",
       "#sk-container-id-1 div.sk-container {\n",
       "  /* jupyter's `normalize.less` sets `[hidden] { display: none; }`\n",
       "     but bootstrap.min.css set `[hidden] { display: none !important; }`\n",
       "     so we also need the `!important` here to be able to override the\n",
       "     default hidden behavior on the sphinx rendered scikit-learn.org.\n",
       "     See: https://github.com/scikit-learn/scikit-learn/issues/21755 */\n",
       "  display: inline-block !important;\n",
       "  position: relative;\n",
       "}\n",
       "\n",
       "#sk-container-id-1 div.sk-text-repr-fallback {\n",
       "  display: none;\n",
       "}\n",
       "\n",
       "div.sk-parallel-item,\n",
       "div.sk-serial,\n",
       "div.sk-item {\n",
       "  /* draw centered vertical line to link estimators */\n",
       "  background-image: linear-gradient(var(--sklearn-color-text-on-default-background), var(--sklearn-color-text-on-default-background));\n",
       "  background-size: 2px 100%;\n",
       "  background-repeat: no-repeat;\n",
       "  background-position: center center;\n",
       "}\n",
       "\n",
       "/* Parallel-specific style estimator block */\n",
       "\n",
       "#sk-container-id-1 div.sk-parallel-item::after {\n",
       "  content: \"\";\n",
       "  width: 100%;\n",
       "  border-bottom: 2px solid var(--sklearn-color-text-on-default-background);\n",
       "  flex-grow: 1;\n",
       "}\n",
       "\n",
       "#sk-container-id-1 div.sk-parallel {\n",
       "  display: flex;\n",
       "  align-items: stretch;\n",
       "  justify-content: center;\n",
       "  background-color: var(--sklearn-color-background);\n",
       "  position: relative;\n",
       "}\n",
       "\n",
       "#sk-container-id-1 div.sk-parallel-item {\n",
       "  display: flex;\n",
       "  flex-direction: column;\n",
       "}\n",
       "\n",
       "#sk-container-id-1 div.sk-parallel-item:first-child::after {\n",
       "  align-self: flex-end;\n",
       "  width: 50%;\n",
       "}\n",
       "\n",
       "#sk-container-id-1 div.sk-parallel-item:last-child::after {\n",
       "  align-self: flex-start;\n",
       "  width: 50%;\n",
       "}\n",
       "\n",
       "#sk-container-id-1 div.sk-parallel-item:only-child::after {\n",
       "  width: 0;\n",
       "}\n",
       "\n",
       "/* Serial-specific style estimator block */\n",
       "\n",
       "#sk-container-id-1 div.sk-serial {\n",
       "  display: flex;\n",
       "  flex-direction: column;\n",
       "  align-items: center;\n",
       "  background-color: var(--sklearn-color-background);\n",
       "  padding-right: 1em;\n",
       "  padding-left: 1em;\n",
       "}\n",
       "\n",
       "\n",
       "/* Toggleable style: style used for estimator/Pipeline/ColumnTransformer box that is\n",
       "clickable and can be expanded/collapsed.\n",
       "- Pipeline and ColumnTransformer use this feature and define the default style\n",
       "- Estimators will overwrite some part of the style using the `sk-estimator` class\n",
       "*/\n",
       "\n",
       "/* Pipeline and ColumnTransformer style (default) */\n",
       "\n",
       "#sk-container-id-1 div.sk-toggleable {\n",
       "  /* Default theme specific background. It is overwritten whether we have a\n",
       "  specific estimator or a Pipeline/ColumnTransformer */\n",
       "  background-color: var(--sklearn-color-background);\n",
       "}\n",
       "\n",
       "/* Toggleable label */\n",
       "#sk-container-id-1 label.sk-toggleable__label {\n",
       "  cursor: pointer;\n",
       "  display: block;\n",
       "  width: 100%;\n",
       "  margin-bottom: 0;\n",
       "  padding: 0.5em;\n",
       "  box-sizing: border-box;\n",
       "  text-align: center;\n",
       "}\n",
       "\n",
       "#sk-container-id-1 label.sk-toggleable__label-arrow:before {\n",
       "  /* Arrow on the left of the label */\n",
       "  content: \"▸\";\n",
       "  float: left;\n",
       "  margin-right: 0.25em;\n",
       "  color: var(--sklearn-color-icon);\n",
       "}\n",
       "\n",
       "#sk-container-id-1 label.sk-toggleable__label-arrow:hover:before {\n",
       "  color: var(--sklearn-color-text);\n",
       "}\n",
       "\n",
       "/* Toggleable content - dropdown */\n",
       "\n",
       "#sk-container-id-1 div.sk-toggleable__content {\n",
       "  max-height: 0;\n",
       "  max-width: 0;\n",
       "  overflow: hidden;\n",
       "  text-align: left;\n",
       "  /* unfitted */\n",
       "  background-color: var(--sklearn-color-unfitted-level-0);\n",
       "}\n",
       "\n",
       "#sk-container-id-1 div.sk-toggleable__content.fitted {\n",
       "  /* fitted */\n",
       "  background-color: var(--sklearn-color-fitted-level-0);\n",
       "}\n",
       "\n",
       "#sk-container-id-1 div.sk-toggleable__content pre {\n",
       "  margin: 0.2em;\n",
       "  border-radius: 0.25em;\n",
       "  color: var(--sklearn-color-text);\n",
       "  /* unfitted */\n",
       "  background-color: var(--sklearn-color-unfitted-level-0);\n",
       "}\n",
       "\n",
       "#sk-container-id-1 div.sk-toggleable__content.fitted pre {\n",
       "  /* unfitted */\n",
       "  background-color: var(--sklearn-color-fitted-level-0);\n",
       "}\n",
       "\n",
       "#sk-container-id-1 input.sk-toggleable__control:checked~div.sk-toggleable__content {\n",
       "  /* Expand drop-down */\n",
       "  max-height: 200px;\n",
       "  max-width: 100%;\n",
       "  overflow: auto;\n",
       "}\n",
       "\n",
       "#sk-container-id-1 input.sk-toggleable__control:checked~label.sk-toggleable__label-arrow:before {\n",
       "  content: \"▾\";\n",
       "}\n",
       "\n",
       "/* Pipeline/ColumnTransformer-specific style */\n",
       "\n",
       "#sk-container-id-1 div.sk-label input.sk-toggleable__control:checked~label.sk-toggleable__label {\n",
       "  color: var(--sklearn-color-text);\n",
       "  background-color: var(--sklearn-color-unfitted-level-2);\n",
       "}\n",
       "\n",
       "#sk-container-id-1 div.sk-label.fitted input.sk-toggleable__control:checked~label.sk-toggleable__label {\n",
       "  background-color: var(--sklearn-color-fitted-level-2);\n",
       "}\n",
       "\n",
       "/* Estimator-specific style */\n",
       "\n",
       "/* Colorize estimator box */\n",
       "#sk-container-id-1 div.sk-estimator input.sk-toggleable__control:checked~label.sk-toggleable__label {\n",
       "  /* unfitted */\n",
       "  background-color: var(--sklearn-color-unfitted-level-2);\n",
       "}\n",
       "\n",
       "#sk-container-id-1 div.sk-estimator.fitted input.sk-toggleable__control:checked~label.sk-toggleable__label {\n",
       "  /* fitted */\n",
       "  background-color: var(--sklearn-color-fitted-level-2);\n",
       "}\n",
       "\n",
       "#sk-container-id-1 div.sk-label label.sk-toggleable__label,\n",
       "#sk-container-id-1 div.sk-label label {\n",
       "  /* The background is the default theme color */\n",
       "  color: var(--sklearn-color-text-on-default-background);\n",
       "}\n",
       "\n",
       "/* On hover, darken the color of the background */\n",
       "#sk-container-id-1 div.sk-label:hover label.sk-toggleable__label {\n",
       "  color: var(--sklearn-color-text);\n",
       "  background-color: var(--sklearn-color-unfitted-level-2);\n",
       "}\n",
       "\n",
       "/* Label box, darken color on hover, fitted */\n",
       "#sk-container-id-1 div.sk-label.fitted:hover label.sk-toggleable__label.fitted {\n",
       "  color: var(--sklearn-color-text);\n",
       "  background-color: var(--sklearn-color-fitted-level-2);\n",
       "}\n",
       "\n",
       "/* Estimator label */\n",
       "\n",
       "#sk-container-id-1 div.sk-label label {\n",
       "  font-family: monospace;\n",
       "  font-weight: bold;\n",
       "  display: inline-block;\n",
       "  line-height: 1.2em;\n",
       "}\n",
       "\n",
       "#sk-container-id-1 div.sk-label-container {\n",
       "  text-align: center;\n",
       "}\n",
       "\n",
       "/* Estimator-specific */\n",
       "#sk-container-id-1 div.sk-estimator {\n",
       "  font-family: monospace;\n",
       "  border: 1px dotted var(--sklearn-color-border-box);\n",
       "  border-radius: 0.25em;\n",
       "  box-sizing: border-box;\n",
       "  margin-bottom: 0.5em;\n",
       "  /* unfitted */\n",
       "  background-color: var(--sklearn-color-unfitted-level-0);\n",
       "}\n",
       "\n",
       "#sk-container-id-1 div.sk-estimator.fitted {\n",
       "  /* fitted */\n",
       "  background-color: var(--sklearn-color-fitted-level-0);\n",
       "}\n",
       "\n",
       "/* on hover */\n",
       "#sk-container-id-1 div.sk-estimator:hover {\n",
       "  /* unfitted */\n",
       "  background-color: var(--sklearn-color-unfitted-level-2);\n",
       "}\n",
       "\n",
       "#sk-container-id-1 div.sk-estimator.fitted:hover {\n",
       "  /* fitted */\n",
       "  background-color: var(--sklearn-color-fitted-level-2);\n",
       "}\n",
       "\n",
       "/* Specification for estimator info (e.g. \"i\" and \"?\") */\n",
       "\n",
       "/* Common style for \"i\" and \"?\" */\n",
       "\n",
       ".sk-estimator-doc-link,\n",
       "a:link.sk-estimator-doc-link,\n",
       "a:visited.sk-estimator-doc-link {\n",
       "  float: right;\n",
       "  font-size: smaller;\n",
       "  line-height: 1em;\n",
       "  font-family: monospace;\n",
       "  background-color: var(--sklearn-color-background);\n",
       "  border-radius: 1em;\n",
       "  height: 1em;\n",
       "  width: 1em;\n",
       "  text-decoration: none !important;\n",
       "  margin-left: 1ex;\n",
       "  /* unfitted */\n",
       "  border: var(--sklearn-color-unfitted-level-1) 1pt solid;\n",
       "  color: var(--sklearn-color-unfitted-level-1);\n",
       "}\n",
       "\n",
       ".sk-estimator-doc-link.fitted,\n",
       "a:link.sk-estimator-doc-link.fitted,\n",
       "a:visited.sk-estimator-doc-link.fitted {\n",
       "  /* fitted */\n",
       "  border: var(--sklearn-color-fitted-level-1) 1pt solid;\n",
       "  color: var(--sklearn-color-fitted-level-1);\n",
       "}\n",
       "\n",
       "/* On hover */\n",
       "div.sk-estimator:hover .sk-estimator-doc-link:hover,\n",
       ".sk-estimator-doc-link:hover,\n",
       "div.sk-label-container:hover .sk-estimator-doc-link:hover,\n",
       ".sk-estimator-doc-link:hover {\n",
       "  /* unfitted */\n",
       "  background-color: var(--sklearn-color-unfitted-level-3);\n",
       "  color: var(--sklearn-color-background);\n",
       "  text-decoration: none;\n",
       "}\n",
       "\n",
       "div.sk-estimator.fitted:hover .sk-estimator-doc-link.fitted:hover,\n",
       ".sk-estimator-doc-link.fitted:hover,\n",
       "div.sk-label-container:hover .sk-estimator-doc-link.fitted:hover,\n",
       ".sk-estimator-doc-link.fitted:hover {\n",
       "  /* fitted */\n",
       "  background-color: var(--sklearn-color-fitted-level-3);\n",
       "  color: var(--sklearn-color-background);\n",
       "  text-decoration: none;\n",
       "}\n",
       "\n",
       "/* Span, style for the box shown on hovering the info icon */\n",
       ".sk-estimator-doc-link span {\n",
       "  display: none;\n",
       "  z-index: 9999;\n",
       "  position: relative;\n",
       "  font-weight: normal;\n",
       "  right: .2ex;\n",
       "  padding: .5ex;\n",
       "  margin: .5ex;\n",
       "  width: min-content;\n",
       "  min-width: 20ex;\n",
       "  max-width: 50ex;\n",
       "  color: var(--sklearn-color-text);\n",
       "  box-shadow: 2pt 2pt 4pt #999;\n",
       "  /* unfitted */\n",
       "  background: var(--sklearn-color-unfitted-level-0);\n",
       "  border: .5pt solid var(--sklearn-color-unfitted-level-3);\n",
       "}\n",
       "\n",
       ".sk-estimator-doc-link.fitted span {\n",
       "  /* fitted */\n",
       "  background: var(--sklearn-color-fitted-level-0);\n",
       "  border: var(--sklearn-color-fitted-level-3);\n",
       "}\n",
       "\n",
       ".sk-estimator-doc-link:hover span {\n",
       "  display: block;\n",
       "}\n",
       "\n",
       "/* \"?\"-specific style due to the `<a>` HTML tag */\n",
       "\n",
       "#sk-container-id-1 a.estimator_doc_link {\n",
       "  float: right;\n",
       "  font-size: 1rem;\n",
       "  line-height: 1em;\n",
       "  font-family: monospace;\n",
       "  background-color: var(--sklearn-color-background);\n",
       "  border-radius: 1rem;\n",
       "  height: 1rem;\n",
       "  width: 1rem;\n",
       "  text-decoration: none;\n",
       "  /* unfitted */\n",
       "  color: var(--sklearn-color-unfitted-level-1);\n",
       "  border: var(--sklearn-color-unfitted-level-1) 1pt solid;\n",
       "}\n",
       "\n",
       "#sk-container-id-1 a.estimator_doc_link.fitted {\n",
       "  /* fitted */\n",
       "  border: var(--sklearn-color-fitted-level-1) 1pt solid;\n",
       "  color: var(--sklearn-color-fitted-level-1);\n",
       "}\n",
       "\n",
       "/* On hover */\n",
       "#sk-container-id-1 a.estimator_doc_link:hover {\n",
       "  /* unfitted */\n",
       "  background-color: var(--sklearn-color-unfitted-level-3);\n",
       "  color: var(--sklearn-color-background);\n",
       "  text-decoration: none;\n",
       "}\n",
       "\n",
       "#sk-container-id-1 a.estimator_doc_link.fitted:hover {\n",
       "  /* fitted */\n",
       "  background-color: var(--sklearn-color-fitted-level-3);\n",
       "}\n",
       "</style><div id=\"sk-container-id-1\" class=\"sk-top-container\"><div class=\"sk-text-repr-fallback\"><pre>SVC(kernel=&#x27;linear&#x27;, random_state=42)</pre><b>In a Jupyter environment, please rerun this cell to show the HTML representation or trust the notebook. <br />On GitHub, the HTML representation is unable to render, please try loading this page with nbviewer.org.</b></div><div class=\"sk-container\" hidden><div class=\"sk-item\"><div class=\"sk-estimator fitted sk-toggleable\"><input class=\"sk-toggleable__control sk-hidden--visually\" id=\"sk-estimator-id-1\" type=\"checkbox\" checked><label for=\"sk-estimator-id-1\" class=\"sk-toggleable__label fitted sk-toggleable__label-arrow fitted\">&nbsp;&nbsp;SVC<a class=\"sk-estimator-doc-link fitted\" rel=\"noreferrer\" target=\"_blank\" href=\"https://scikit-learn.org/1.4/modules/generated/sklearn.svm.SVC.html\">?<span>Documentation for SVC</span></a><span class=\"sk-estimator-doc-link fitted\">i<span>Fitted</span></span></label><div class=\"sk-toggleable__content fitted\"><pre>SVC(kernel=&#x27;linear&#x27;, random_state=42)</pre></div> </div></div></div></div>"
      ],
      "text/plain": [
       "SVC(kernel='linear', random_state=42)"
      ]
     },
     "execution_count": 28,
     "metadata": {},
     "output_type": "execute_result"
    }
   ],
   "source": [
    "model_lbp = SVC(kernel='linear', random_state=42)\n",
    "model_lbp.fit(data, labels)"
   ]
  },
  {
   "cell_type": "code",
   "execution_count": 29,
   "id": "5e5ce299",
   "metadata": {},
   "outputs": [],
   "source": [
    "#actual, predicted = lbp_detector(model_lbp, target_dir)"
   ]
  },
  {
   "cell_type": "code",
   "execution_count": 30,
   "id": "d6d83710",
   "metadata": {},
   "outputs": [],
   "source": [
    "#metric_report(actual, predicted)"
   ]
  },
  {
   "cell_type": "code",
   "execution_count": 31,
   "id": "6b8485b2",
   "metadata": {},
   "outputs": [],
   "source": [
    "#confusion_matrix = metrics.confusion_matrix(actual, predicted)"
   ]
  },
  {
   "cell_type": "code",
   "execution_count": 32,
   "id": "a95acba8",
   "metadata": {},
   "outputs": [],
   "source": [
    "#cm_display = metrics.ConfusionMatrixDisplay(confusion_matrix = confusion_matrix, display_labels = ['Male', 'Female'])\n",
    "#cm_display.plot()\n",
    "#plt.show()"
   ]
  },
  {
   "cell_type": "code",
   "execution_count": 33,
   "id": "57a88d71",
   "metadata": {},
   "outputs": [],
   "source": [
    "fname = 'lbp_svm_model.sav'\n",
    "#pickle.dump(model_lbp, open(fname, 'wb'))"
   ]
  },
  {
   "cell_type": "code",
   "execution_count": 34,
   "id": "378cefba",
   "metadata": {},
   "outputs": [],
   "source": [
    "loaded_model = pickle.load(open(fname, 'rb'))"
   ]
  },
  {
   "cell_type": "code",
   "execution_count": 35,
   "id": "337a8c34",
   "metadata": {},
   "outputs": [
    {
     "name": "stderr",
     "output_type": "stream",
     "text": [
      "SVM Inference: 100%|█████████████████████████████████████████████████████████| 10/10 [00:00<00:00, 66.28it/s]\n"
     ]
    }
   ],
   "source": [
    "# Verilen folder icindeki yuzlerden gender tespit etme\n",
    "test_dir = './test_images'\n",
    "actual_test, predicted_test = lbp_detector(loaded_model, test_dir)"
   ]
  },
  {
   "cell_type": "code",
   "execution_count": 36,
   "id": "ac3b488d",
   "metadata": {},
   "outputs": [
    {
     "data": {
      "text/plain": [
       "(0.8, 0.7142857142857143, 1.0, 0.8333333333333334)"
      ]
     },
     "execution_count": 36,
     "metadata": {},
     "output_type": "execute_result"
    }
   ],
   "source": [
    "metric_report(actual_test, predicted_test)"
   ]
  },
  {
   "cell_type": "code",
   "execution_count": 37,
   "id": "3da8210f",
   "metadata": {},
   "outputs": [
    {
     "name": "stdout",
     "output_type": "stream",
     "text": [
      "Actual gender: Man\n",
      "Predicted gender: Man\n"
     ]
    }
   ],
   "source": [
    "# Verilen goruntuden gender tespit etme\n",
    "test_image = 'test_images/27_0_0_20170117013808240_cropped.jpg'\n",
    "gender = lbp_predict(loaded_model, test_image)"
   ]
  },
  {
   "cell_type": "markdown",
   "id": "0476a6d5",
   "metadata": {},
   "source": [
    "## Scale Invariant Feature Transform (SIFT)"
   ]
  },
  {
   "cell_type": "code",
   "execution_count": 38,
   "id": "fcc6acd8",
   "metadata": {},
   "outputs": [],
   "source": [
    "def extract_descriptors(image, extractor):\n",
    "    gray = cv2.imread(image, 0)   \n",
    "    keypoints, descriptors = extractor.detectAndCompute(gray, None)\n",
    "    return descriptors"
   ]
  },
  {
   "cell_type": "code",
   "execution_count": 39,
   "id": "a8e8bce8",
   "metadata": {},
   "outputs": [],
   "source": [
    "def sift_feature_extractor():\n",
    "    sift = cv2.SIFT_create()\n",
    "    \n",
    "    data = []\n",
    "    labels = []\n",
    "    \n",
    "    for pimg in tqdm(glob.glob(f\"{source_dir}/*.{ext}\")):\n",
    "        img = cv2.imread(pimg)\n",
    "        img_resized = cv2.resize(img, r_shape)\n",
    "        gray_img = cv2.cvtColor(img_resized, cv2.COLOR_BGR2GRAY)\n",
    "        _, descriptors = sift.detectAndCompute(gray_img)\n",
    "        data.append(descriptors)\n",
    "        labels.append(os.path.basename(pimg).split('_')[1])\n",
    "        \n",
    "    return data, labels"
   ]
  },
  {
   "cell_type": "code",
   "execution_count": 40,
   "id": "54aec219",
   "metadata": {},
   "outputs": [],
   "source": [
    "## Bag of Words will be implemented (feedback)"
   ]
  }
 ],
 "metadata": {
  "kernelspec": {
   "display_name": "Python 3 (ipykernel)",
   "language": "python",
   "name": "python3"
  },
  "language_info": {
   "codemirror_mode": {
    "name": "ipython",
    "version": 3
   },
   "file_extension": ".py",
   "mimetype": "text/x-python",
   "name": "python",
   "nbconvert_exporter": "python",
   "pygments_lexer": "ipython3",
   "version": "3.11.7"
  }
 },
 "nbformat": 4,
 "nbformat_minor": 5
}
